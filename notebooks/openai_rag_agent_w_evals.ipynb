{
 "cells": [
  {
   "cell_type": "markdown",
   "metadata": {},
   "source": [
    "# OpenAI Agent with LlamaIndex\n",
    "\n",
    "## Install Dependencies"
   ]
  },
  {
   "cell_type": "code",
   "execution_count": 104,
   "metadata": {},
   "outputs": [
    {
     "name": "stderr",
     "output_type": "stream",
     "text": [
      "I0000 00:00:1750538644.349066   13377 fork_posix.cc:71] Other threads are currently calling into gRPC, skipping fork() handlers\n",
      "10417.35s - pydevd: Sending message related to process being replaced timed-out after 5 seconds\n"
     ]
    },
    {
     "name": "stdout",
     "output_type": "stream",
     "text": [
      "Requirement already satisfied: uv in /home/lilbluey/repos/20k-project/.venv/lib/python3.12/site-packages (0.7.13)\n"
     ]
    },
    {
     "name": "stderr",
     "output_type": "stream",
     "text": [
      "I0000 00:00:1750538650.433569   13377 fork_posix.cc:71] Other threads are currently calling into gRPC, skipping fork() handlers\n",
      "10423.42s - pydevd: Sending message related to process being replaced timed-out after 5 seconds\n",
      "I0000 00:00:1750538656.032513   13377 fork_posix.cc:71] Other threads are currently calling into gRPC, skipping fork() handlers\n",
      "10429.03s - pydevd: Sending message related to process being replaced timed-out after 5 seconds\n",
      "I0000 00:00:1750538661.460151   13377 fork_posix.cc:71] Other threads are currently calling into gRPC, skipping fork() handlers\n",
      "10434.44s - pydevd: Sending message related to process being replaced timed-out after 5 seconds\n"
     ]
    },
    {
     "name": "stdout",
     "output_type": "stream",
     "text": [
      "\u001b[2mUsing Python 3.12.3 environment at: /home/lilbluey/repos/20k-project/.venv\u001b[0m\n",
      "\u001b[2K\u001b[2mResolved \u001b[1m13 packages\u001b[0m \u001b[2min 189ms\u001b[0m\u001b[0m                                        \u001b[0m\n",
      "\u001b[2K\u001b[37m⠙\u001b[0m \u001b[2mPreparing packages...\u001b[0m (0/8)                                                   \n",
      "\u001b[2K\u001b[1A\u001b[37m⠙\u001b[0m \u001b[2mPreparing packages...\u001b[0m (0/8)--------------\u001b[0m\u001b[0m     0 B/38.86 KiB           \u001b[1A\n",
      "\u001b[2K\u001b[1A\u001b[37m⠙\u001b[0m \u001b[2mPreparing packages...\u001b[0m (0/8)--------------\u001b[0m\u001b[0m 14.91 KiB/38.86 KiB         \u001b[1A\n",
      "\u001b[2K\u001b[1A\u001b[37m⠙\u001b[0m \u001b[2mPreparing packages...\u001b[0m (0/8)----\u001b[2m------\u001b[0m\u001b[0m 30.91 KiB/38.86 KiB         \u001b[1A\n",
      "\u001b[2K\u001b[1A\u001b[37m⠙\u001b[0m \u001b[2mPreparing packages...\u001b[0m (0/8)----------\u001b[2m\u001b[0m\u001b[0m 38.86 KiB/38.86 KiB         \u001b[1A\n",
      "\u001b[2K\u001b[1A\u001b[37m⠙\u001b[0m \u001b[2mPreparing packages...\u001b[0m (0/8)----------\u001b[2m\u001b[0m\u001b[0m 38.86 KiB/38.86 KiB         \u001b[1A\n",
      "\u001b[2mcssselect2          \u001b[0m \u001b[32m\u001b[2m------------------------------\u001b[0m\u001b[0m     0 B/15.09 KiB\n",
      "\u001b[2K\u001b[2A\u001b[37m⠙\u001b[0m \u001b[2mPreparing packages...\u001b[0m (0/8)----------\u001b[2m\u001b[0m\u001b[0m 38.86 KiB/38.86 KiB         \u001b[2A\n",
      "\u001b[2mcssselect2          \u001b[0m \u001b[32m------------------------------\u001b[2m\u001b[0m\u001b[0m 14.91 KiB/15.09 KiB\n",
      "\u001b[2K\u001b[2A\u001b[37m⠙\u001b[0m \u001b[2mPreparing packages...\u001b[0m (0/8)----------\u001b[2m\u001b[0m\u001b[0m 38.86 KiB/38.86 KiB         \u001b[2A\n",
      "\u001b[2mcssselect2          \u001b[0m \u001b[32m------------------------------\u001b[2m\u001b[0m\u001b[0m 14.91 KiB/15.09 KiB\n",
      "\u001b[2K\u001b[2A\u001b[37m⠙\u001b[0m \u001b[2mPreparing packages...\u001b[0m (0/8)----------\u001b[2m\u001b[0m\u001b[0m 38.86 KiB/38.86 KiB         \u001b[2A\n",
      "\u001b[2mcssselect2          \u001b[0m \u001b[32m------------------------------\u001b[2m\u001b[0m\u001b[0m 14.91 KiB/15.09 KiB\n",
      "\u001b[2K\u001b[2A\u001b[37m⠙\u001b[0m \u001b[2mPreparing packages...\u001b[0m (0/8)----------\u001b[2m\u001b[0m\u001b[0m 38.86 KiB/38.86 KiB         \u001b[2A\n",
      "\u001b[2mcssselect2          \u001b[0m \u001b[32m------------------------------\u001b[2m\u001b[0m\u001b[0m 14.91 KiB/15.09 KiB\n",
      "\u001b[2mtinyhtml5           \u001b[0m \u001b[32m------------------------------\u001b[2m\u001b[0m\u001b[0m 38.86 KiB/38.86 KiB\n",
      "\u001b[2K\u001b[3A\u001b[37m⠙\u001b[0m \u001b[2mPreparing packages...\u001b[0m (0/8)--------------\u001b[0m\u001b[0m     0 B/4.67 MiB            \u001b[3A\n",
      "\u001b[2mcssselect2          \u001b[0m \u001b[32m------------------------------\u001b[2m\u001b[0m\u001b[0m 14.91 KiB/15.09 KiB\n",
      "\u001b[2mtinyhtml5           \u001b[0m \u001b[32m------------------------------\u001b[2m\u001b[0m\u001b[0m 38.86 KiB/38.86 KiB\n",
      "\u001b[2K\u001b[3A\u001b[37m⠙\u001b[0m \u001b[2mPreparing packages...\u001b[0m (0/8)--------------\u001b[0m\u001b[0m     0 B/4.67 MiB            \u001b[3A\n",
      "\u001b[2mcssselect2          \u001b[0m \u001b[32m------------------------------\u001b[2m\u001b[0m\u001b[0m 14.91 KiB/15.09 KiB\n",
      "\u001b[2mtinyhtml5           \u001b[0m \u001b[32m------------------------------\u001b[2m\u001b[0m\u001b[0m 38.86 KiB/38.86 KiB\n",
      "\u001b[2K\u001b[3A\u001b[37m⠙\u001b[0m \u001b[2mPreparing packages...\u001b[0m (0/8)--------------\u001b[0m\u001b[0m     0 B/4.67 MiB            \u001b[3A\n",
      "\u001b[2mcssselect2          \u001b[0m \u001b[32m------------------------------\u001b[2m\u001b[0m\u001b[0m 14.91 KiB/15.09 KiB\n",
      "\u001b[2mtinyhtml5           \u001b[0m \u001b[32m------------------------------\u001b[2m\u001b[0m\u001b[0m 38.86 KiB/38.86 KiB\n",
      "\u001b[2K\u001b[3A\u001b[37m⠙\u001b[0m \u001b[2mPreparing packages...\u001b[0m (0/8)--------------\u001b[0m\u001b[0m     0 B/4.67 MiB            \u001b[3A\n",
      "\u001b[2mcssselect2          \u001b[0m \u001b[32m------------------------------\u001b[2m\u001b[0m\u001b[0m 14.91 KiB/15.09 KiB\n",
      "\u001b[2mtinyhtml5           \u001b[0m \u001b[32m------------------------------\u001b[2m\u001b[0m\u001b[0m 38.86 KiB/38.86 KiB\n",
      "\u001b[2mweasyprint          \u001b[0m \u001b[32m\u001b[2m------------------------------\u001b[0m\u001b[0m     0 B/291.05 KiB\n",
      "\u001b[2K\u001b[4A\u001b[37m⠙\u001b[0m \u001b[2mPreparing packages...\u001b[0m (0/8)--------------\u001b[0m\u001b[0m     0 B/4.67 MiB            \u001b[4A\n",
      "\u001b[2mcssselect2          \u001b[0m \u001b[32m------------------------------\u001b[2m\u001b[0m\u001b[0m 14.91 KiB/15.09 KiB\n",
      "\u001b[2mtinyhtml5           \u001b[0m \u001b[32m------------------------------\u001b[2m\u001b[0m\u001b[0m 38.86 KiB/38.86 KiB\n",
      "\u001b[2mweasyprint          \u001b[0m \u001b[32m\u001b[2m------------------------------\u001b[0m\u001b[0m     0 B/291.05 KiB\n",
      "\u001b[2K\u001b[4A\u001b[37m⠙\u001b[0m \u001b[2mPreparing packages...\u001b[0m (0/8)--------------\u001b[0m\u001b[0m     0 B/4.67 MiB            \u001b[4A\n",
      "\u001b[2mcssselect2          \u001b[0m \u001b[32m------------------------------\u001b[2m\u001b[0m\u001b[0m 14.91 KiB/15.09 KiB\n",
      "\u001b[2mtinyhtml5           \u001b[0m \u001b[32m------------------------------\u001b[2m\u001b[0m\u001b[0m 38.86 KiB/38.86 KiB\n",
      "\u001b[2mweasyprint          \u001b[0m \u001b[32m\u001b[2m------------------------------\u001b[0m\u001b[0m     0 B/291.05 KiB\n",
      "\u001b[2K\u001b[4A\u001b[37m⠙\u001b[0m \u001b[2mPreparing packages...\u001b[0m (0/8)--------------\u001b[0m\u001b[0m     0 B/4.67 MiB            \u001b[4A\n",
      "\u001b[2mcssselect2          \u001b[0m \u001b[32m------------------------------\u001b[2m\u001b[0m\u001b[0m 14.91 KiB/15.09 KiB\n",
      "\u001b[2mtinyhtml5           \u001b[0m \u001b[32m------------------------------\u001b[2m\u001b[0m\u001b[0m 38.86 KiB/38.86 KiB\n",
      "\u001b[2mweasyprint          \u001b[0m \u001b[32m\u001b[2m------------------------------\u001b[0m\u001b[0m     0 B/291.05 KiB\n",
      "\u001b[2K\u001b[4A\u001b[37m⠙\u001b[0m \u001b[2mPreparing packages...\u001b[0m (0/8)--------------\u001b[0m\u001b[0m     0 B/4.67 MiB            \u001b[4A\n",
      "\u001b[2mpydyf               \u001b[0m \u001b[32m------------------------------\u001b[2m\u001b[0m\u001b[0m 7.91 KiB/7.91 KiB\n",
      "\u001b[2mcssselect2          \u001b[0m \u001b[32m------------------------------\u001b[2m\u001b[0m\u001b[0m 14.91 KiB/15.09 KiB\n",
      "\u001b[2mweasyprint          \u001b[0m \u001b[32m\u001b[2m------------------------------\u001b[0m\u001b[0m     0 B/291.05 KiB\n",
      "\u001b[2mzopfli              \u001b[0m \u001b[32m\u001b[2m------------------------------\u001b[0m\u001b[0m     0 B/831.18 KiB\n",
      "\u001b[2mbrotli              \u001b[0m \u001b[32m\u001b[2m------------------------------\u001b[0m\u001b[0m     0 B/2.78 MiB\n",
      "\u001b[2K\u001b[6A\u001b[37m⠙\u001b[0m \u001b[2mPreparing packages...\u001b[0m (0/8)--------------\u001b[0m\u001b[0m 16.00 KiB/4.67 MiB          \u001b[6A\n",
      "\u001b[2mpydyf               \u001b[0m \u001b[32m------------------------------\u001b[2m\u001b[0m\u001b[0m 7.91 KiB/7.91 KiB\n",
      "\u001b[2mweasyprint          \u001b[0m \u001b[32m--\u001b[2m----------------------------\u001b[0m\u001b[0m 16.00 KiB/291.05 KiB\n",
      "\u001b[2mzopfli              \u001b[0m \u001b[32m-\u001b[2m-----------------------------\u001b[0m\u001b[0m 16.00 KiB/831.18 KiB\n",
      "\u001b[2mpyphen              \u001b[0m \u001b[32m-\u001b[2m-----------------------------\u001b[0m\u001b[0m 14.88 KiB/1.98 MiB\n",
      "\u001b[2mbrotli              \u001b[0m \u001b[32m-\u001b[2m-----------------------------\u001b[0m\u001b[0m 16.00 KiB/2.78 MiB\n",
      "\u001b[2K\u001b[6A\u001b[37m⠙\u001b[0m \u001b[2mPreparing packages...\u001b[0m (0/8)--------------\u001b[0m\u001b[0m 63.42 KiB/4.67 MiB          \u001b[6A\n",
      "\u001b[2mweasyprint          \u001b[0m \u001b[32m--\u001b[2m----------------------------\u001b[0m\u001b[0m 16.00 KiB/291.05 KiB\n",
      "\u001b[2mzopfli              \u001b[0m \u001b[32m-\u001b[2m-----------------------------\u001b[0m\u001b[0m 16.00 KiB/831.18 KiB\n",
      "\u001b[2mpyphen              \u001b[0m \u001b[32m-\u001b[2m-----------------------------\u001b[0m\u001b[0m 14.88 KiB/1.98 MiB\n",
      "\u001b[2mbrotli              \u001b[0m \u001b[32m-\u001b[2m-----------------------------\u001b[0m\u001b[0m 16.00 KiB/2.78 MiB\n",
      "\u001b[2K\u001b[5A\u001b[37m⠙\u001b[0m \u001b[2mPreparing packages...\u001b[0m (0/8)--------------\u001b[0m\u001b[0m 63.42 KiB/4.67 MiB          \u001b[5A\n",
      "\u001b[2mweasyprint          \u001b[0m \u001b[32m---------------\u001b[2m---------------\u001b[0m\u001b[0m 143.24 KiB/291.05 KiB\n",
      "\u001b[2mzopfli              \u001b[0m \u001b[32m-------\u001b[2m-----------------------\u001b[0m\u001b[0m 191.92 KiB/831.18 KiB\n",
      "\u001b[2mpyphen              \u001b[0m \u001b[32m---\u001b[2m---------------------------\u001b[0m\u001b[0m 142.88 KiB/1.98 MiB\n",
      "\u001b[2mbrotli              \u001b[0m \u001b[32m---\u001b[2m---------------------------\u001b[0m\u001b[0m 223.66 KiB/2.78 MiB\n",
      "\u001b[2K\u001b[5A\u001b[37m⠙\u001b[0m \u001b[2mPreparing packages...\u001b[0m (0/8)--------------\u001b[0m\u001b[0m 319.42 KiB/4.67 MiB         \u001b[5A\n",
      "\u001b[2mzopfli              \u001b[0m \u001b[32m-----------------\u001b[2m-------------\u001b[0m\u001b[0m 463.92 KiB/831.18 KiB\n",
      "\u001b[2mpyphen              \u001b[0m \u001b[32m--------\u001b[2m----------------------\u001b[0m\u001b[0m 520.56 KiB/1.98 MiB\n",
      "\u001b[2mbrotli              \u001b[0m \u001b[32m------\u001b[2m------------------------\u001b[0m\u001b[0m 527.66 KiB/2.78 MiB\n",
      "\u001b[2K\u001b[4A\u001b[37m⠙\u001b[0m \u001b[2mPreparing packages...\u001b[0m (0/8)--------------\u001b[0m\u001b[0m 527.42 KiB/4.67 MiB         \u001b[4A\n",
      "\u001b[2mzopfli              \u001b[0m \u001b[32m-----------------\u001b[2m-------------\u001b[0m\u001b[0m 463.92 KiB/831.18 KiB\n",
      "\u001b[2mpyphen              \u001b[0m \u001b[32m--------\u001b[2m----------------------\u001b[0m\u001b[0m 520.56 KiB/1.98 MiB\n",
      "\u001b[2mbrotli              \u001b[0m \u001b[32m------\u001b[2m------------------------\u001b[0m\u001b[0m 527.66 KiB/2.78 MiB\n",
      "\u001b[2K\u001b[4A\u001b[37m⠙\u001b[0m \u001b[2mPreparing packages...\u001b[0m (0/8)--------------\u001b[0m\u001b[0m 543.42 KiB/4.67 MiB         \u001b[4A\n",
      "\u001b[2mpyphen              \u001b[0m \u001b[32m--------------\u001b[2m----------------\u001b[0m\u001b[0m 920.56 KiB/1.98 MiB\n",
      "\u001b[2mbrotli              \u001b[0m \u001b[32m-----------\u001b[2m-------------------\u001b[0m\u001b[0m 959.66 KiB/2.78 MiB\n",
      "\u001b[2K\u001b[3A\u001b[37m⠙\u001b[0m \u001b[2mPreparing packages...\u001b[0m (0/8)--------------\u001b[0m\u001b[0m 1007.42 KiB/4.67 MiB        \u001b[3A\n",
      "\u001b[2mpyphen              \u001b[0m \u001b[32m---------------\u001b[2m---------------\u001b[0m\u001b[0m 952.46 KiB/1.98 MiB\n",
      "\u001b[2mbrotli              \u001b[0m \u001b[32m-----------\u001b[2m-------------------\u001b[0m\u001b[0m 991.66 KiB/2.78 MiB\n",
      "\u001b[2K\u001b[3A\u001b[37m⠙\u001b[0m \u001b[2mPreparing packages...\u001b[0m (0/8)--------------\u001b[0m\u001b[0m 1.03 MiB/4.67 MiB           \u001b[3A\n",
      "\u001b[2mpyphen              \u001b[0m \u001b[32m-----------------------\u001b[2m-------\u001b[0m\u001b[0m 1.47 MiB/1.98 MiB\n",
      "\u001b[2mbrotli              \u001b[0m \u001b[32m-----------------\u001b[2m-------------\u001b[0m\u001b[0m 1.54 MiB/2.78 MiB\n",
      "\u001b[2K\u001b[3A\u001b[37m⠹\u001b[0m \u001b[2mPreparing packages...\u001b[0m (5/8)--------------\u001b[0m\u001b[0m 1.53 MiB/4.67 MiB           \u001b[3A\n",
      "\u001b[2mpyphen              \u001b[0m \u001b[32m------------------------------\u001b[2m\u001b[0m\u001b[0m 1.95 MiB/1.98 MiB\n",
      "\u001b[2mbrotli              \u001b[0m \u001b[32m-----------------------\u001b[2m-------\u001b[0m\u001b[0m 2.10 MiB/2.78 MiB\n",
      "\u001b[2K\u001b[3A\u001b[37m⠹\u001b[0m \u001b[2mPreparing packages...\u001b[0m (5/8)--------------\u001b[0m\u001b[0m 2.01 MiB/4.67 MiB           \u001b[3A\n",
      "\u001b[2mbrotli              \u001b[0m \u001b[32m-----------------------\u001b[2m-------\u001b[0m\u001b[0m 2.12 MiB/2.78 MiB\n",
      "\u001b[2K\u001b[2A\u001b[37m⠹\u001b[0m \u001b[2mPreparing packages...\u001b[0m (5/8)--------------\u001b[0m\u001b[0m 2.07 MiB/4.67 MiB           \u001b[2A\n",
      "\u001b[2mbrotli              \u001b[0m \u001b[32m------------------------------\u001b[2m\u001b[0m\u001b[0m 2.77 MiB/2.78 MiB\n",
      "\u001b[2K\u001b[2A\u001b[37m⠹\u001b[0m \u001b[2mPreparing packages...\u001b[0m (5/8)m-------------\u001b[0m\u001b[0m 2.63 MiB/4.67 MiB           \u001b[2A\n",
      "\u001b[2K\u001b[1A\u001b[37m⠹\u001b[0m \u001b[2mPreparing packages...\u001b[0m (5/8)\u001b[2m----------\u001b[0m\u001b[0m 2.98 MiB/4.67 MiB           \u001b[1A\n",
      "\u001b[2K\u001b[2mPrepared \u001b[1m8 packages\u001b[0m \u001b[2min 399ms\u001b[0m\u001b[0m                                                 \u001b[1A\n",
      "\u001b[2K\u001b[2mInstalled \u001b[1m8 packages\u001b[0m \u001b[2min 76ms\u001b[0m\u001b[0m                                \u001b[0m\n",
      " \u001b[32m+\u001b[39m \u001b[1mbrotli\u001b[0m\u001b[2m==1.1.0\u001b[0m\n",
      " \u001b[32m+\u001b[39m \u001b[1mcssselect2\u001b[0m\u001b[2m==0.8.0\u001b[0m\n",
      " \u001b[32m+\u001b[39m \u001b[1mfonttools\u001b[0m\u001b[2m==4.58.4\u001b[0m\n",
      " \u001b[32m+\u001b[39m \u001b[1mpydyf\u001b[0m\u001b[2m==0.11.0\u001b[0m\n",
      " \u001b[32m+\u001b[39m \u001b[1mpyphen\u001b[0m\u001b[2m==0.17.2\u001b[0m\n",
      " \u001b[32m+\u001b[39m \u001b[1mtinyhtml5\u001b[0m\u001b[2m==2.0.0\u001b[0m\n",
      " \u001b[32m+\u001b[39m \u001b[1mweasyprint\u001b[0m\u001b[2m==65.1\u001b[0m\n",
      " \u001b[32m+\u001b[39m \u001b[1mzopfli\u001b[0m\u001b[2m==0.2.3.post1\u001b[0m\n"
     ]
    }
   ],
   "source": [
    "!pip install uv\n",
    "!uv pip install -qU llama-index==0.11.6 llama-index-llms-openai llama-index-readers-file llama-index-embeddings-openai \"openinference-instrumentation-llama-index>=2\" arize-phoenix python-dotenv\n",
    "!uv pip install -q -U google-genai\n",
    "!uv pip install weasyprint"
   ]
  },
  {
   "cell_type": "markdown",
   "metadata": {},
   "source": [
    "## Setup API Keys\n"
   ]
  },
  {
   "cell_type": "code",
   "execution_count": 93,
   "metadata": {},
   "outputs": [],
   "source": [
    "from os import environ\n",
    "from dotenv import load_dotenv\n",
    "\n",
    "load_dotenv()\n",
    "\n",
    "GEMINI_API_KEY = environ[\"GEMINI_API_KEY\"]"
   ]
  },
  {
   "cell_type": "markdown",
   "metadata": {},
   "source": [
    "## Import libraries and setup LlamaIndex"
   ]
  },
  {
   "cell_type": "code",
   "execution_count": 94,
   "metadata": {},
   "outputs": [],
   "source": [
    "from llama_index.core import (\n",
    "    SimpleDirectoryReader,\n",
    "    VectorStoreIndex,\n",
    "    StorageContext,\n",
    "    load_index_from_storage,\n",
    ")\n",
    "from llama_index.core.tools import QueryEngineTool, ToolMetadata\n",
    "from llama_index.core.agent import ReActAgent\n",
    "from llama_index.llms.openai import OpenAI\n",
    "\n",
    "#used for getting folder and file path for resume.\n",
    "from pathlib import Path \n",
    "\n",
    "# # Create an llm object to use for the QueryEngine and the ReActAgent\n",
    "# llm = OpenAI(model=\"gpt-4\")\n",
    "from google import genai\n",
    "from google.genai import types\n",
    "import pathlib\n",
    "import httpx\n",
    "\n",
    "import builtins\n",
    "import os\n",
    "import pyppeteer\n",
    "import asyncio\n",
    "#from asyncio import py\n",
    "from pyppeteer import launch\n",
    "from pyppeteer import chromium_downloader"
   ]
  },
  {
   "cell_type": "markdown",
   "metadata": {},
   "source": [
    "#Gets the resume file in the input resume directory"
   ]
  },
  {
   "cell_type": "code",
   "execution_count": 95,
   "metadata": {},
   "outputs": [],
   "source": [
    "client = genai.Client(api_key=GEMINI_API_KEY)\n",
    "\n",
    "def GetFirstFile(directory_path):\n",
    "    try:\n",
    "        resume_folder = pathlib.Path(directory_path)\n",
    "        for resume in resume_folder.iterdir():\n",
    "            #only look for pdf files.\n",
    "            if resume.is_file() and resume.suffix == \".pdf\":\n",
    "                return resume.absolute()\n",
    "        return None\n",
    "    except FileNotFoundError:\n",
    "        return None\n",
    "\n",
    "def GetFileData(file_path):\n",
    "    return file_path.read_bytes()\n",
    "    \n",
    "\n",
    "resume_path = GetFirstFile(\"../InputResume\")\n",
    "if resume_path == None : \n",
    "    print(\"Add your resume in pdf format into InputResume folder\")\n",
    "    exit()\n",
    "resume_data = GetFileData(resume_path)\n"
   ]
  },
  {
   "cell_type": "markdown",
   "metadata": {},
   "source": [
    "#Sends the resume to Gemini (TODO: Testing)#"
   ]
  },
  {
   "cell_type": "code",
   "execution_count": 121,
   "metadata": {},
   "outputs": [
    {
     "name": "stdout",
     "output_type": "stream",
     "text": [
      "<!DOCTYPE html>\n",
      "<html lang=\"en\">\n",
      "<head>\n",
      "    <meta charset=\"UTF-8\">\n",
      "    <meta name=\"viewport\" content=\"width=device-width, initial-scale=1.0\">\n",
      "    <title>Joel Lee Jie - Software Engineer Resume</title>\n",
      "    <style>\n",
      "        body {\n",
      "            font-family: 'Segoe UI', Tahoma, Geneva, Verdana, sans-serif;\n",
      "            margin: 0;\n",
      "            padding: 20px;\n",
      "            color: #333;\n",
      "            background-color: #fff;\n",
      "            max-width: 800px; /* Standard resume width for viewing */\n",
      "            margin: 20px auto; /* Center on page */\n",
      "            box-shadow: 0 0 10px rgba(0,0,0,0.1); /* Subtle shadow for definition */\n",
      "            line-height: 1.5;\n",
      "        }\n",
      "        h1, h2, h3 {\n",
      "            color: #000;\n",
      "            margin-top: 0;\n",
      "            margin-bottom: 5px;\n",
      "        }\n",
      "        h1 {\n",
      "            font-size: 2.2em;\n",
      "            text-align: center;\n",
      "            margin-bottom: 10px;\n",
      "        }\n",
      "        h2 {\n",
      "            font-size: 1.2em;\n",
      "            border-bottom: 1px solid #ccc;\n",
      "            padding-bottom: 3px;\n",
      "            margin-top: 20px;\n",
      "            margin-bottom: 10px;\n",
      "        }\n",
      "        .contact-info {\n",
      "            text-align: center;\n",
      "            margin-bottom: 20px;\n",
      "            font-size: 0.95em;\n",
      "        }\n",
      "        .contact-info span {\n",
      "            margin: 0 10px;\n",
      "            white-space: nowrap; /* Prevent contact info from breaking lines */\n",
      "        }\n",
      "        .section {\n",
      "            margin-bottom: 15px;\n",
      "        }\n",
      "        .item-header {\n",
      "            display: flex;\n",
      "            justify-content: space-between;\n",
      "            align-items: baseline;\n",
      "            margin-bottom: 3px;\n",
      "        }\n",
      "        .item-header h3 {\n",
      "            font-size: 1.1em;\n",
      "            margin: 0;\n",
      "        }\n",
      "        .item-header .date, .item-header .location {\n",
      "            font-size: 0.9em;\n",
      "            color: #555;\n",
      "            white-space: nowrap;\n",
      "        }\n",
      "        ul {\n",
      "            list-style-type: disc;\n",
      "            padding-left: 20px;\n",
      "            margin-top: 5px;\n",
      "            margin-bottom: 5px;\n",
      "        }\n",
      "        li {\n",
      "            margin-bottom: 5px;\n",
      "            padding-left: 5px;\n",
      "        }\n",
      "        strong {\n",
      "            font-weight: bold;\n",
      "        }\n",
      "        a {\n",
      "            color: #000;\n",
      "            text-decoration: none;\n",
      "        }\n",
      "        a:hover {\n",
      "            text-decoration: underline;\n",
      "        }\n",
      "        .skills-list {\n",
      "            list-style-type: none;\n",
      "            padding: 0;\n",
      "            margin: 0;\n",
      "            display: flex;\n",
      "            flex-wrap: wrap;\n",
      "        }\n",
      "        .skills-list li {\n",
      "            margin-right: 15px;\n",
      "            margin-bottom: 5px;\n",
      "            white-space: nowrap;\n",
      "        }\n",
      "        .skills-category {\n",
      "            font-weight: bold;\n",
      "            margin-right: 5px;\n",
      "        }\n",
      "\n",
      "        /* Print-specific styles to help fit on one page */\n",
      "        @media print {\n",
      "            body {\n",
      "                margin: 0;\n",
      "                padding: 0;\n",
      "                box-shadow: none;\n",
      "                width: 210mm; /* A4 width */\n",
      "                height: 297mm; /* A4 height */\n",
      "                overflow: hidden; /* Prevent content overflow to second page */\n",
      "            }\n",
      "            .section {\n",
      "                margin-bottom: 10px; /* Reduce margin to fit more content */\n",
      "            }\n",
      "            ul {\n",
      "                margin-top: 3px;\n",
      "                margin-bottom: 3px;\n",
      "            }\n",
      "            li {\n",
      "                margin-bottom: 3px;\n",
      "            }\n",
      "            h2 {\n",
      "                margin-top: 15px;\n",
      "                margin-bottom: 8px;\n",
      "            }\n",
      "        }\n",
      "    </style>\n",
      "</head>\n",
      "<body>\n",
      "    <h1>Joel Lee Jie</h1>\n",
      "    <div class=\"contact-info\">\n",
      "        <span>joelleejie132@gmail.com</span> |\n",
      "        <span>+65 88811572</span> |\n",
      "        <span><a href=\"https://github.com/JoelLeeJie\" target=\"_blank\">github.com/JoelLeeJie</a></span> |\n",
      "        <span><a href=\"https://github.com/JoelLeeJie/Personal-Showcase\" target=\"_blank\">Personal-Showcase (Code & Demos)</a></span>\n",
      "    </div>\n",
      "\n",
      "    <div class=\"section\">\n",
      "        <h2>EDUCATION</h2>\n",
      "        <div class=\"item-header\">\n",
      "            <h3>BSc Computer Science in Real-Time Interactive Simulation</h3>\n",
      "            <span class=\"date\">Aug 2023 – Current</span>\n",
      "        </div>\n",
      "        <div class=\"item-header\">\n",
      "            <span>Singapore Institute of Technology - DigiPen</span>\n",
      "            <span class=\"location\">Singapore</span>\n",
      "        </div>\n",
      "        <ul>\n",
      "            <li>Currently in Year 2 with a strong academic record: CGPA of <strong>4.78</strong> (as of writing).</li>\n",
      "            <li>Curriculum focused on core computer science principles, real-time systems, and software development methodologies.</li>\n",
      "        </ul>\n",
      "    </div>\n",
      "\n",
      "    <div class=\"section\">\n",
      "        <h2>TECHNICAL SKILLS</h2>\n",
      "        <ul class=\"skills-list\">\n",
      "            <li><span class=\"skills-category\">Languages:</span> C++, C#, SQL</li>\n",
      "            <li><span class=\"skills-category\">Frameworks/Libraries:</span> WPF (.NET), SDL2, FFmpeg</li>\n",
      "            <li><span class=\"skills-category\">Databases:</span> PostgreSQL</li>\n",
      "            <li><span class=\"skills-category\">Tools:</span> Git, Visual Studio, Windows File Explorer API</li>\n",
      "            <li><span class=\"skills-category\">Concepts:</span> Object-Oriented Programming (OOP), Data Structures & Algorithms, Real-Time Systems, API Integration, Debugging, Code Optimization, Software Development Life Cycle (SDLC)</li>\n",
      "        </ul>\n",
      "    </div>\n",
      "\n",
      "    <div class=\"section\">\n",
      "        <h2>PERSONAL PROJECTS</h2>\n",
      "        <div class=\"item-header\">\n",
      "            <h3><a href=\"https://github.com/JoelLeeJie/GenshinDatabase\" target=\"_blank\">GenshinDB</a></h3>\n",
      "            <span class=\"date\">2023</span>\n",
      "        </div>\n",
      "        <ul>\n",
      "            <li>Developed an interactive desktop application using <strong>C#</strong> and <strong>WPF</strong>, providing a user-friendly interface for data exploration.</li>\n",
      "            <li>Implemented a robust data pipeline for sourcing, parsing, and storing game information from an official wiki using web scraping and <strong>API integration</strong>.</li>\n",
      "            <li>Designed and managed the database schema in <strong>PostgreSQL</strong>, hosted on <strong>Neon.Tech</strong>, ensuring efficient data storage, retrieval, and scalability.</li>\n",
      "            <li>Demonstrated end-to-end involvement in the <strong>Software Development Life Cycle (SDLC)</strong>, from data acquisition and database design to UI/UX implementation and deployment.</li>\n",
      "        </ul>\n",
      "\n",
      "        <div class=\"item-header\">\n",
      "            <h3><a href=\"https://github.com/JoelLeeJie/Video-Player\" target=\"_blank\">Video Player</a></h3>\n",
      "            <span class=\"date\">2022</span>\n",
      "        </div>\n",
      "        <ul>\n",
      "            <li>Engineered a functional audio and visual video player in <strong>C++</strong>, leveraging <strong>FFmpeg</strong> for multimedia decoding and <strong>SDL2</strong> for graphics and audio rendering.</li>\n",
      "            <li>Integrated with Windows' native file explorer APIs to enable seamless file selection and playback, showcasing system-level programming capabilities.</li>\n",
      "            <li>Focused on efficient multimedia processing and playback, applying principles of <strong>performance optimization</strong> and <strong>real-time rendering</strong> for smooth user experience.</li>\n",
      "        </ul>\n",
      "    </div>\n",
      "\n",
      "    <div class=\"section\">\n",
      "        <h2>WORK EXPERIENCE</h2>\n",
      "        <div class=\"item-header\">\n",
      "            <h3>Retail Assistant</h3>\n",
      "            <span class=\"date\">Feb 2023 - Aug 2023</span>\n",
      "        </div>\n",
      "        <div class=\"item-header\">\n",
      "            <span>Chateraise</span>\n",
      "            <span class=\"location\">Bishan, Singapore</span>\n",
      "        </div>\n",
      "        <ul>\n",
      "            <li>Provided professional customer service, adeptly resolving concerns and de-escalating conflicts through effective communication and problem-solving.</li>\n",
      "            <li>Cultivated strong working relationships with colleagues, fostering a collaborative and productive team environment.</li>\n",
      "        </ul>\n",
      "\n",
      "        <div class=\"item-header\">\n",
      "            <h3>Signaller, Artillery</h3>\n",
      "            <span class=\"date\">Apr 2021 - Feb 2023</span>\n",
      "        </div>\n",
      "        <div class=\"item-header\">\n",
      "            <span>Singapore Armed Forces</span>\n",
      "            <span class=\"location\">Singapore</span>\n",
      "        </div>\n",
      "        <ul>\n",
      "            <li>Operated effectively in high-pressure, fast-paced environments, demonstrating resilience and attention to detail.</li>\n",
      "            <li>Collaborated closely with team members to achieve operational objectives and maintain high performance standards.</li>\n",
      "        </ul>\n",
      "    </div>\n",
      "\n",
      "    <div class=\"section\">\n",
      "        <h2>VOLUNTEER EXPERIENCE</h2>\n",
      "        <div class=\"item-header\">\n",
      "            <h3>Ad-Hoc Volunteer</h3>\n",
      "            <span class=\"date\">2024 - Current</span>\n",
      "        </div>\n",
      "        <div class=\"item-header\">\n",
      "            <span>Willing Hearts</span>\n",
      "            <span class=\"location\">Singapore</span>\n",
      "        </div>\n",
      "        <ul>\n",
      "            <li>Contributed to various roles in a large-scale food kitchen operation, collaborating with diverse teams to serve the community.</li>\n",
      "        </ul>\n",
      "    </div>\n",
      "</body>\n",
      "</html>\n"
     ]
    }
   ],
   "source": [
    "job_posting_url = \"https://www.indeed.com/m/viewjob?jk=db1e2083edec1315&from=serp&tk=1iua4tf59gifh811&advn=5908654242980451&adid=447065164&ad=-6NYlbfkN0Cc7GM2uq9-_va6doAzIGZAjomm4_8ikDeWx2s3NNOqO6lrkyYoafl5oGCB5hCQu8t2YycwQrkR6Rm9PwUEwsE-S5SH-lpa2BADtsiSIxtmOT0ryJWWishe3FCvxE76BB5vq7bd-yS-RqGGpJp7pnBVEPREr2w4fijMplbi6qD2SQb7GCFyF3vVMVvytBwgf2t_UIi3M_eVAQp9cBG0dWY3JwTyPz284HuuepQ91N0rooywNJ-J3FAxpsBUu_IDwqZfmEeTDO87RsNd3HMFhIvL90kWT0AW6o0i1-Wmnz2s0QAgs0jOvuQoGD9bUd-dnGKaBkaDoCE4b6bz4KS6yNTSO03iA6_PABqLlxsHoBe9BdD84k3yhOEeDgJqESjY2BOrMqLoN6PAnfEbYR7GJ3k0vlgKkQzlSzBem6U48-Nv-SmzNdLCLQNexI32Eal6gpABWOgD7Hm-wkIhYBPO738UhKL0xgbevpb7UOm-_1fx1LzJf392_3jOlZ_cxk2LwkM-NoEu5wpIQAldau4Q15IuJE6djl-GV0QZRWQojv6fZrVpifsBRiP1AxcwvHjbwkksNVH-c7UjiI9i_kanPBsP9lqGP022-g39PTh1Qa7O6v2gjrkbnoFztJ4E8R8HRCzT4LTxHGSUffKFFQEg88a-CyMnJGOsOIW3Qp4noSl5fVK7II-AVPyPgn1t_BjBAlKWkKpNnnyiPA%3D%3D&xkcb=SoBS6_M3wKB6N2y-gp0LbzkdCdPP\"\n",
    "prompt = \"Finetune this resume for a programming job, and only return a html file. The resume should only be in black and white, following a professional format, and only one page long. Tailor the resume for this job posting \" + job_posting_url\n",
    "response = client.models.generate_content(\n",
    "  model=\"gemini-2.5-flash\",\n",
    "  contents=[\n",
    "      types.Part.from_bytes(\n",
    "        data=resume_data,\n",
    "        mime_type='application/pdf',\n",
    "      ),\n",
    "      prompt])\n",
    "\n",
    "resume_html = response.text\n",
    "first_bracket = resume_html.find('<')\n",
    "last_bracket = resume_html.rfind('>')\n",
    "if first_bracket != -1 and last_bracket != -1 and first_bracket < last_bracket :\n",
    "    resume_html = resume_html[first_bracket : last_bracket+1]\n",
    "    print(resume_html)"
   ]
  },
  {
   "cell_type": "code",
   "execution_count": null,
   "metadata": {},
   "outputs": [
    {
     "name": "stdout",
     "output_type": "stream",
     "text": [
      "Directory '../OutputResume' created or already exists.\n"
     ]
    }
   ],
   "source": [
    "def create_directory_if_not_exists(path):\n",
    "    try:\n",
    "        os.makedirs(path, exist_ok=True)\n",
    "        print(f\"Directory '{path}' created or already exists.\")\n",
    "    except OSError as e:\n",
    "        print(f\"Error creating directory '{path}': {e}\")\n",
    "\n",
    "# def WriteToFile(directory_path, file_name, file_data):\n",
    "#     with builtins.open(directory_path + \"/\" + file_name, 'w', encoding='utf-8') as f:\n",
    "#       f.write(response.text)\n",
    "#     print(\"Success\")\n",
    "\n",
    "create_directory_if_not_exists(\"../OutputResume\")\n"
   ]
  },
  {
   "cell_type": "code",
   "execution_count": 123,
   "metadata": {},
   "outputs": [],
   "source": [
    "import weasyprint\n",
    "weasyprint.HTML(string = resume_html).write_pdf(\"../OutputResume/UpdatedResume.pdf\")"
   ]
  },
  {
   "cell_type": "markdown",
   "metadata": {},
   "source": [
    "# Set up Phoenix"
   ]
  },
  {
   "cell_type": "code",
   "execution_count": 22,
   "metadata": {},
   "outputs": [
    {
     "name": "stderr",
     "output_type": "stream",
     "text": [
      "Existing running Phoenix instance detected! Shutting it down and starting a new instance...\n"
     ]
    },
    {
     "name": "stdout",
     "output_type": "stream",
     "text": [
      "🌍 To view the Phoenix app in your browser, visit http://localhost:6006/\n",
      "📖 For more information on how to use Phoenix, check out https://arize.com/docs/phoenix\n"
     ]
    }
   ],
   "source": [
    "import phoenix as px\n",
    "session = px.launch_app()"
   ]
  },
  {
   "cell_type": "code",
   "execution_count": 24,
   "metadata": {},
   "outputs": [
    {
     "name": "stderr",
     "output_type": "stream",
     "text": [
      "Overriding of current TracerProvider is not allowed\n"
     ]
    },
    {
     "name": "stdout",
     "output_type": "stream",
     "text": [
      "🔭 OpenTelemetry Tracing Details 🔭\n",
      "|  Phoenix Project: default\n",
      "|  Span Processor: SimpleSpanProcessor\n",
      "|  Collector Endpoint: localhost:4317\n",
      "|  Transport: gRPC\n",
      "|  Transport Headers: {'user-agent': '****'}\n",
      "|  \n",
      "|  Using a default SpanProcessor. `add_span_processor` will overwrite this default.\n",
      "|  \n",
      "|  ⚠️ WARNING: It is strongly advised to use a BatchSpanProcessor in production environments.\n",
      "|  \n",
      "|  `register` has set this TracerProvider as the global OpenTelemetry default.\n",
      "|  To disable this behavior, call `register` with `set_global_tracer_provider=False`.\n",
      "\n"
     ]
    },
    {
     "ename": "ImportError",
     "evalue": "cannot import name 'ContentBlock' from 'llama_index.core.base.llms.types' (/home/lilbluey/repos/20k-project/.venv/lib/python3.12/site-packages/llama_index/core/base/llms/types.py)",
     "output_type": "error",
     "traceback": [
      "\u001b[31m---------------------------------------------------------------------------\u001b[39m",
      "\u001b[31mImportError\u001b[39m                               Traceback (most recent call last)",
      "\u001b[36mCell\u001b[39m\u001b[36m \u001b[39m\u001b[32mIn[24]\u001b[39m\u001b[32m, line 5\u001b[39m\n\u001b[32m      2\u001b[39m \u001b[38;5;28;01mfrom\u001b[39;00m\u001b[38;5;250m \u001b[39m\u001b[34;01mphoenix\u001b[39;00m\u001b[34;01m.\u001b[39;00m\u001b[34;01motel\u001b[39;00m\u001b[38;5;250m \u001b[39m\u001b[38;5;28;01mimport\u001b[39;00m register\n\u001b[32m      4\u001b[39m tracer_provider = register()\n\u001b[32m----> \u001b[39m\u001b[32m5\u001b[39m \u001b[43mLlamaIndexInstrumentor\u001b[49m\u001b[43m(\u001b[49m\u001b[43m)\u001b[49m\u001b[43m.\u001b[49m\u001b[43minstrument\u001b[49m\u001b[43m(\u001b[49m\u001b[43mtracer_provider\u001b[49m\u001b[43m=\u001b[49m\u001b[43mtracer_provider\u001b[49m\u001b[43m)\u001b[49m\n",
      "\u001b[36mFile \u001b[39m\u001b[32m~/20k-project/.venv/lib/python3.12/site-packages/opentelemetry/instrumentation/instrumentor.py:125\u001b[39m, in \u001b[36mBaseInstrumentor.instrument\u001b[39m\u001b[34m(self, **kwargs)\u001b[39m\n\u001b[32m    122\u001b[39m \u001b[38;5;66;03m# initialize semantic conventions opt-in if needed\u001b[39;00m\n\u001b[32m    123\u001b[39m _OpenTelemetrySemanticConventionStability._initialize()\n\u001b[32m--> \u001b[39m\u001b[32m125\u001b[39m result = \u001b[38;5;28;43mself\u001b[39;49m\u001b[43m.\u001b[49m\u001b[43m_instrument\u001b[49m\u001b[43m(\u001b[49m\u001b[43m  \u001b[49m\u001b[38;5;66;43;03m# pylint: disable=assignment-from-no-return\u001b[39;49;00m\n\u001b[32m    126\u001b[39m \u001b[43m    \u001b[49m\u001b[43m*\u001b[49m\u001b[43m*\u001b[49m\u001b[43mkwargs\u001b[49m\n\u001b[32m    127\u001b[39m \u001b[43m\u001b[49m\u001b[43m)\u001b[49m\n\u001b[32m    128\u001b[39m \u001b[38;5;28mself\u001b[39m._is_instrumented_by_opentelemetry = \u001b[38;5;28;01mTrue\u001b[39;00m\n\u001b[32m    129\u001b[39m \u001b[38;5;28;01mreturn\u001b[39;00m result\n",
      "\u001b[36mFile \u001b[39m\u001b[32m~/20k-project/.venv/lib/python3.12/site-packages/openinference/instrumentation/llama_index/__init__.py:71\u001b[39m, in \u001b[36mLlamaIndexInstrumentor._instrument\u001b[39m\u001b[34m(self, **kwargs)\u001b[39m\n\u001b[32m     68\u001b[39m \u001b[38;5;28;01melse\u001b[39;00m:\n\u001b[32m     69\u001b[39m     \u001b[38;5;28;01mfrom\u001b[39;00m\u001b[38;5;250m \u001b[39m\u001b[34;01mllama_index\u001b[39;00m\u001b[34;01m.\u001b[39;00m\u001b[34;01mcore\u001b[39;00m\u001b[34;01m.\u001b[39;00m\u001b[34;01minstrumentation\u001b[39;00m\u001b[38;5;250m \u001b[39m\u001b[38;5;28;01mimport\u001b[39;00m get_dispatcher\n\u001b[32m---> \u001b[39m\u001b[32m71\u001b[39m     \u001b[38;5;28;01mfrom\u001b[39;00m\u001b[38;5;250m \u001b[39m\u001b[34;01m.\u001b[39;00m\u001b[34;01m_handler\u001b[39;00m\u001b[38;5;250m \u001b[39m\u001b[38;5;28;01mimport\u001b[39;00m EventHandler, _SpanHandler\n\u001b[32m     73\u001b[39m     \u001b[38;5;28mself\u001b[39m._span_handler = _SpanHandler(\n\u001b[32m     74\u001b[39m         tracer=tracer,\n\u001b[32m     75\u001b[39m         separate_trace_from_runtime_context=\u001b[38;5;28mbool\u001b[39m(\n\u001b[32m     76\u001b[39m             kwargs.get(\u001b[33m\"\u001b[39m\u001b[33mseparate_trace_from_runtime_context\u001b[39m\u001b[33m\"\u001b[39m)\n\u001b[32m     77\u001b[39m         ),\n\u001b[32m     78\u001b[39m     )\n\u001b[32m     79\u001b[39m     \u001b[38;5;28mself\u001b[39m._event_handler = EventHandler(span_handler=\u001b[38;5;28mself\u001b[39m._span_handler)\n",
      "\u001b[36mFile \u001b[39m\u001b[32m~/20k-project/.venv/lib/python3.12/site-packages/openinference/instrumentation/llama_index/_handler.py:48\u001b[39m\n\u001b[32m     46\u001b[39m \u001b[38;5;28;01mfrom\u001b[39;00m\u001b[38;5;250m \u001b[39m\u001b[34;01mllama_index\u001b[39;00m\u001b[34;01m.\u001b[39;00m\u001b[34;01mcore\u001b[39;00m\u001b[34;01m.\u001b[39;00m\u001b[34;01mbase\u001b[39;00m\u001b[34;01m.\u001b[39;00m\u001b[34;01membeddings\u001b[39;00m\u001b[34;01m.\u001b[39;00m\u001b[34;01mbase\u001b[39;00m\u001b[38;5;250m \u001b[39m\u001b[38;5;28;01mimport\u001b[39;00m BaseEmbedding\n\u001b[32m     47\u001b[39m \u001b[38;5;28;01mfrom\u001b[39;00m\u001b[38;5;250m \u001b[39m\u001b[34;01mllama_index\u001b[39;00m\u001b[34;01m.\u001b[39;00m\u001b[34;01mcore\u001b[39;00m\u001b[34;01m.\u001b[39;00m\u001b[34;01mbase\u001b[39;00m\u001b[34;01m.\u001b[39;00m\u001b[34;01mllms\u001b[39;00m\u001b[34;01m.\u001b[39;00m\u001b[34;01mbase\u001b[39;00m\u001b[38;5;250m \u001b[39m\u001b[38;5;28;01mimport\u001b[39;00m BaseLLM\n\u001b[32m---> \u001b[39m\u001b[32m48\u001b[39m \u001b[38;5;28;01mfrom\u001b[39;00m\u001b[38;5;250m \u001b[39m\u001b[34;01mllama_index\u001b[39;00m\u001b[34;01m.\u001b[39;00m\u001b[34;01mcore\u001b[39;00m\u001b[34;01m.\u001b[39;00m\u001b[34;01mbase\u001b[39;00m\u001b[34;01m.\u001b[39;00m\u001b[34;01mllms\u001b[39;00m\u001b[34;01m.\u001b[39;00m\u001b[34;01mtypes\u001b[39;00m\u001b[38;5;250m \u001b[39m\u001b[38;5;28;01mimport\u001b[39;00m (\n\u001b[32m     49\u001b[39m     ChatMessage,\n\u001b[32m     50\u001b[39m     ChatResponse,\n\u001b[32m     51\u001b[39m     CompletionResponse,\n\u001b[32m     52\u001b[39m     ContentBlock,\n\u001b[32m     53\u001b[39m     ImageBlock,\n\u001b[32m     54\u001b[39m     TextBlock,\n\u001b[32m     55\u001b[39m )\n\u001b[32m     56\u001b[39m \u001b[38;5;28;01mfrom\u001b[39;00m\u001b[38;5;250m \u001b[39m\u001b[34;01mllama_index\u001b[39;00m\u001b[34;01m.\u001b[39;00m\u001b[34;01mcore\u001b[39;00m\u001b[34;01m.\u001b[39;00m\u001b[34;01mbase\u001b[39;00m\u001b[34;01m.\u001b[39;00m\u001b[34;01mresponse\u001b[39;00m\u001b[34;01m.\u001b[39;00m\u001b[34;01mschema\u001b[39;00m\u001b[38;5;250m \u001b[39m\u001b[38;5;28;01mimport\u001b[39;00m (\n\u001b[32m     57\u001b[39m     RESPONSE_TYPE,\n\u001b[32m     58\u001b[39m     AsyncStreamingResponse,\n\u001b[32m   (...)\u001b[39m\u001b[32m     61\u001b[39m     StreamingResponse,\n\u001b[32m     62\u001b[39m )\n\u001b[32m     63\u001b[39m \u001b[38;5;28;01mfrom\u001b[39;00m\u001b[38;5;250m \u001b[39m\u001b[34;01mllama_index\u001b[39;00m\u001b[34;01m.\u001b[39;00m\u001b[34;01mcore\u001b[39;00m\u001b[34;01m.\u001b[39;00m\u001b[34;01mbridge\u001b[39;00m\u001b[34;01m.\u001b[39;00m\u001b[34;01mpydantic\u001b[39;00m\u001b[38;5;250m \u001b[39m\u001b[38;5;28;01mimport\u001b[39;00m BaseModel\n",
      "\u001b[31mImportError\u001b[39m: cannot import name 'ContentBlock' from 'llama_index.core.base.llms.types' (/home/lilbluey/repos/20k-project/.venv/lib/python3.12/site-packages/llama_index/core/base/llms/types.py)"
     ]
    }
   ],
   "source": [
    "from openinference.instrumentation.llama_index import LlamaIndexInstrumentor\n",
    "from phoenix.otel import register\n",
    "\n",
    "tracer_provider = register()\n",
    "LlamaIndexInstrumentor().instrument(tracer_provider=tracer_provider)"
   ]
  },
  {
   "cell_type": "markdown",
   "metadata": {},
   "source": [
    "## Load Documents"
   ]
  },
  {
   "cell_type": "code",
   "execution_count": 5,
   "metadata": {},
   "outputs": [
    {
     "name": "stderr",
     "output_type": "stream",
     "text": [
      "/Users/yujian/Documents/workspace/ai_agents_cookbooks/p312/lib/python3.12/site-packages/pydantic/_internal/_fields.py:161: UserWarning: Field \"model_name\" has conflict with protected namespace \"model_\".\n",
      "\n",
      "You may be able to resolve this warning by setting `model_config['protected_namespaces'] = ()`.\n",
      "  warnings.warn(\n"
     ]
    }
   ],
   "source": [
    "try:\n",
    "    storage_context = StorageContext.from_defaults(\n",
    "        persist_dir=\"./storage/lyft\"\n",
    "    )\n",
    "    lyft_index = load_index_from_storage(storage_context)\n",
    "\n",
    "    storage_context = StorageContext.from_defaults(\n",
    "        persist_dir=\"./storage/uber\"\n",
    "    )\n",
    "    uber_index = load_index_from_storage(storage_context)\n",
    "\n",
    "    index_loaded = True\n",
    "except:\n",
    "    index_loaded = False"
   ]
  },
  {
   "cell_type": "markdown",
   "metadata": {},
   "source": [
    "This is the point we create our vector indexes, by calculating the embedding vectors for each of the chunks. You only need to run this once."
   ]
  },
  {
   "cell_type": "code",
   "execution_count": 6,
   "metadata": {},
   "outputs": [],
   "source": [
    "if not index_loaded:\n",
    "    # load data\n",
    "    lyft_docs = SimpleDirectoryReader(\n",
    "        input_files=[\"./10k/lyft_2021.pdf\"]\n",
    "    ).load_data()\n",
    "    uber_docs = SimpleDirectoryReader(\n",
    "        input_files=[\"./10k/uber_2021.pdf\"]\n",
    "    ).load_data()\n",
    "\n",
    "    # build index\n",
    "    lyft_index = VectorStoreIndex.from_documents(lyft_docs, show_progress=True)\n",
    "    uber_index = VectorStoreIndex.from_documents(uber_docs, swow_progress=True)\n",
    "\n",
    "    # persist index\n",
    "    lyft_index.storage_context.persist(persist_dir=\"./storage/lyft\")\n",
    "    uber_index.storage_context.persist(persist_dir=\"./storage/uber\")"
   ]
  },
  {
   "cell_type": "markdown",
   "metadata": {},
   "source": [
    "Now create the query engines."
   ]
  },
  {
   "cell_type": "code",
   "execution_count": 7,
   "metadata": {},
   "outputs": [],
   "source": [
    "lyft_engine = lyft_index.as_query_engine(similarity_top_k=3, llm=llm)\n",
    "uber_engine = uber_index.as_query_engine(similarity_top_k=3, llm=llm)"
   ]
  },
  {
   "cell_type": "markdown",
   "metadata": {},
   "source": [
    "We can now define the query engines as tools that will be used by the agent.\n",
    "\n",
    "As there is a query engine per document we need to also define one tool for each of them."
   ]
  },
  {
   "cell_type": "code",
   "execution_count": 8,
   "metadata": {},
   "outputs": [],
   "source": [
    "query_engine_tools = [\n",
    "    QueryEngineTool(\n",
    "        query_engine=lyft_engine,\n",
    "        metadata=ToolMetadata(\n",
    "            name=\"lyft_10k\",\n",
    "            description=(\n",
    "                \"Provides information about Lyft financials for year 2021. \"\n",
    "                \"Use a detailed plain text question as input to the tool.\"\n",
    "            ),\n",
    "        ),\n",
    "    ),\n",
    "    QueryEngineTool(\n",
    "        query_engine=uber_engine,\n",
    "        metadata=ToolMetadata(\n",
    "            name=\"uber_10k\",\n",
    "            description=(\n",
    "                \"Provides information about Uber financials for year 2021. \"\n",
    "                \"Use a detailed plain text question as input to the tool.\"\n",
    "            ),\n",
    "        ),\n",
    "    ),\n",
    "]"
   ]
  },
  {
   "cell_type": "markdown",
   "metadata": {},
   "source": [
    "## Creating the Agent\n",
    "Now we have all the elements to create a LlamaIndex ReactAgent"
   ]
  },
  {
   "cell_type": "code",
   "execution_count": 9,
   "metadata": {},
   "outputs": [],
   "source": [
    "agent = ReActAgent.from_tools(\n",
    "    query_engine_tools,\n",
    "    llm=llm,\n",
    "    verbose=True,\n",
    "    max_turns=10,\n",
    ")"
   ]
  },
  {
   "cell_type": "markdown",
   "metadata": {},
   "source": [
    "Now we can interact with the agent and ask a question."
   ]
  },
  {
   "cell_type": "code",
   "execution_count": 11,
   "metadata": {},
   "outputs": [
    {
     "name": "stdout",
     "output_type": "stream",
     "text": [
      "> Running step f096df50-a6f3-4889-b875-529dbed43324. Step input: Which do you like better? Lyft or Uber?\n",
      "\u001b[1;3;38;5;200mThought: As an artificial intelligence, I don't have personal experiences or preferences. I can provide information and analysis based on data, but I don't have personal opinions or feelings.\n",
      "Answer: As an artificial intelligence, I don't have personal preferences or feelings, so I don't have a preference between Lyft and Uber. I'm here to provide objective information and help answer your questions to the best of my ability.\n",
      "\u001b[0mAs an artificial intelligence, I don't have personal preferences or feelings, so I don't have a preference between Lyft and Uber. I'm here to provide objective information and help answer your questions to the best of my ability.\n"
     ]
    }
   ],
   "source": [
    "response = agent.chat(\"Which do you like better? Lyft or Uber?\")\n",
    "print(str(response))"
   ]
  },
  {
   "cell_type": "code",
   "execution_count": null,
   "metadata": {},
   "outputs": [],
   "source": []
  }
 ],
 "metadata": {
  "kernelspec": {
   "display_name": ".venv",
   "language": "python",
   "name": "python3"
  },
  "language_info": {
   "codemirror_mode": {
    "name": "ipython",
    "version": 3
   },
   "file_extension": ".py",
   "mimetype": "text/x-python",
   "name": "python",
   "nbconvert_exporter": "python",
   "pygments_lexer": "ipython3",
   "version": "3.12.3"
  }
 },
 "nbformat": 4,
 "nbformat_minor": 2
}
